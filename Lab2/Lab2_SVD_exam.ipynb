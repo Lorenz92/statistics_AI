{
 "cells": [
  {
   "cell_type": "code",
   "execution_count": 20,
   "metadata": {},
   "outputs": [
    {
     "name": "stdout",
     "output_type": "stream",
     "text": [
      "(256, 1707)\n",
      "(1, 1707)\n"
     ]
    }
   ],
   "source": [
    "import numpy as np\n",
    "import matplotlib.pyplot as plt\n",
    "import scipy\n",
    "import scipy.io\n",
    "from sklearn.model_selection import train_test_split\n",
    "from sklearn.metrics import confusion_matrix\n",
    "import seaborn as sn\n",
    "import pandas as pd\n",
    "\n",
    "data = scipy.io.loadmat('./data/MNIST.mat')\n",
    "\n",
    "X = data['X']\n",
    "print(X.shape)\n",
    "I = data['I']\n",
    "print(I.shape)\n",
    "\n",
    "err_dict_2={}\n",
    "err_dict_3={}\n",
    "err_dict_k={}"
   ]
  },
  {
   "cell_type": "code",
   "execution_count": 21,
   "metadata": {},
   "outputs": [
    {
     "name": "stdout",
     "output_type": "stream",
     "text": [
      "[4]\n"
     ]
    },
    {
     "data": {
      "text/plain": [
       "<matplotlib.image.AxesImage at 0x21d77a193f0>"
      ]
     },
     "execution_count": 21,
     "metadata": {},
     "output_type": "execute_result"
    },
    {
     "data": {
      "image/png": "[encoded data removed]",
      "text/plain": [
       "<Figure size 432x288 with 1 Axes>"
      ]
     },
     "metadata": {
      "needs_background": "light"
     },
     "output_type": "display_data"
    }
   ],
   "source": [
    "# Plot some example\n",
    "i=16\n",
    "test = X[:,i]\n",
    "print(I[:,i])\n",
    "test = np.reshape(test, (16,16))\n",
    "plt.imshow(test, cmap='gray')"
   ]
  },
  {
   "cell_type": "code",
   "execution_count": 22,
   "metadata": {},
   "outputs": [],
   "source": [
    "# Extract digit-wise train matrices\n",
    "_, index_1 = np.where(I==3)\n",
    "\n",
    "X_1 = X[:, index_1]\n",
    "\n",
    "# Compute the SVD decomposition of X_1 and X_2\n",
    "U, _, _ = np.linalg.svd(X_1, full_matrices=False)"
   ]
  },
  {
   "cell_type": "code",
   "execution_count": 23,
   "metadata": {},
   "outputs": [
    {
     "data": {
      "text/plain": [
       "(256, 131)"
      ]
     },
     "execution_count": 23,
     "metadata": {},
     "output_type": "execute_result"
    }
   ],
   "source": [
    "U.shape"
   ]
  },
  {
   "cell_type": "code",
   "execution_count": 81,
   "metadata": {},
   "outputs": [
    {
     "data": {
      "text/plain": [
       "<matplotlib.image.AxesImage at 0x2130f58b160>"
      ]
     },
     "execution_count": 81,
     "metadata": {},
     "output_type": "execute_result"
    },
    {
     "data": {
      "image/png": "[encoded data removed]",
      "text/plain": [
       "<Figure size 432x288 with 1 Axes>"
      ]
     },
     "metadata": {
      "needs_background": "light"
     },
     "output_type": "display_data"
    }
   ],
   "source": [
    "i=0\n",
    "test = U[:,i]\n",
    "test = np.reshape(test, (16,16))\n",
    "plt.imshow(test, cmap='gray')"
   ]
  },
  {
   "cell_type": "markdown",
   "metadata": {},
   "source": [
    "## 2-digits example"
   ]
  },
  {
   "cell_type": "code",
   "execution_count": 82,
   "metadata": {},
   "outputs": [],
   "source": [
    "def classify_2(d1, d2, y_test, classes):\n",
    "    y_test = y_test[0]\n",
    "    y_pred = np.array([classes[0] if d1[i] < d2[i] else classes[1] for i in range(len(d1))])\n",
    "    mse = np.mean(y_pred != y_test)*100\n",
    "    nmse = np.sum(y_pred != y_test)\n",
    "\n",
    "    cm = confusion_matrix(y_test, y_pred)\n",
    "\n",
    "    df_cm = pd.DataFrame(cm, index = classes,\n",
    "                  columns = classes)\n",
    "    plt.figure(figsize = (5,5))\n",
    "    sn.heatmap(df_cm, annot=True)\n",
    "\n",
    "    return mse, nmse\n",
    "        \n",
    "\n",
    "def SVD_classification_2(X_train, y_train, X_test, y_test, classes):\n",
    "\n",
    "    # Extract digit-wise train matrices\n",
    "    _, index_1 = np.where(y_train==classes[0])\n",
    "    _, index_2 = np.where(y_train==classes[1])\n",
    "\n",
    "    X_1 = X_train[:, index_1]\n",
    "    X_2 = X_train[:, index_2]\n",
    "\n",
    "    # Compute the SVD decomposition of X_1 and X_2\n",
    "    U_1, _, _ = np.linalg.svd(X_1, full_matrices=False)\n",
    "    U_2, _, _ = np.linalg.svd(X_2, full_matrices=False)\n",
    "\n",
    "    # print(U_1.shape)\n",
    "\n",
    "    # Compute the projections of y into the two spaces\n",
    "    y_1 = U_1 @ (U_1.T @ X_test)\n",
    "    y_2 = U_2 @ (U_2.T @ X_test)\n",
    "\n",
    "    d1 = np.linalg.norm(y_1-X_test, axis=0)\n",
    "    d2 = np.linalg.norm(y_2-X_test, axis=0)\n",
    "\n",
    "    mse, nmse = classify_2(d1, d2, y_test, classes)\n",
    "\n",
    "    print(f'Misclassification error for digits {classes[0]} and {classes[1]}:')\n",
    "    print(f'{mse:.2f}%')\n",
    "    print(f'Number of misclassified digits:')\n",
    "    print(nmse)\n",
    "    \n",
    "    return mse\n",
    "\n",
    "def run_experiment_2(X, I, digits, err):\n",
    "\n",
    "    digits.sort()\n",
    "\n",
    "    # Split train and test set \n",
    "    X_train, X_test, I_train, I_test = train_test_split(X.T, I.T, test_size=.2, random_state=42)\n",
    "    X_train, X_test, I_train, I_test = X_train.T, X_test.T, I_train.T, I_test.T\n",
    "\n",
    "    # Extract the subdataset of X that contains desidered digits\n",
    "    _, indexes = np.where((I_train==digits[0]) | (I_train==digits[1]))\n",
    "\n",
    "    I_train = I_train[:, indexes]\n",
    "    X_train = X_train[:, indexes]\n",
    "\n",
    "    _, indexes = np.where((I_test==digits[0]) | (I_test==digits[1]))\n",
    "\n",
    "    I_test = I_test[:, indexes]\n",
    "    X_test = X_test[:, indexes]\n",
    "\n",
    "    # Bulk classification\n",
    "    mse = SVD_classification_2(X_train, I_train, X_test, I_test, digits)\n",
    "\n",
    "    err[f'{digits[0]}_{digits[1]}'] = round(mse,2)\n",
    "\n",
    "    return\n",
    "    \n"
   ]
  },
  {
   "cell_type": "code",
   "execution_count": 83,
   "metadata": {},
   "outputs": [
    {
     "name": "stdout",
     "output_type": "stream",
     "text": [
      "Misclassification error for digits 3 and 5:\n",
      "13.33%\n",
      "Number of misclassified digits:\n",
      "4\n"
     ]
    },
    {
     "data": {
      "image/png": "[encoded data removed]",
      "text/plain": [
       "<Figure size 360x360 with 2 Axes>"
      ]
     },
     "metadata": {
      "needs_background": "light"
     },
     "output_type": "display_data"
    }
   ],
   "source": [
    "run_experiment_2(X, I, [3,5], err_dict_2)"
   ]
  },
  {
   "cell_type": "code",
   "execution_count": 84,
   "metadata": {},
   "outputs": [
    {
     "data": {
      "image/png": "[encoded data removed]",
      "text/plain": [
       "<Figure size 432x288 with 1 Axes>"
      ]
     },
     "metadata": {
      "needs_background": "light"
     },
     "output_type": "display_data"
    }
   ],
   "source": [
    "# Plot error\n",
    "fig = plt.figure()\n",
    "plt.bar(range(len(err_dict_2)), list(err_dict_2.values()), align='center')\n",
    "plt.xticks(range(len(err_dict_2)), list(err_dict_2.keys()))\n",
    "plt.xlabel('digits pair')\n",
    "plt.ylabel('mse')\n",
    "fig.suptitle('2-digits example')\n",
    "plt.show()"
   ]
  },
  {
   "cell_type": "markdown",
   "metadata": {},
   "source": [
    "## 3-digits example"
   ]
  },
  {
   "cell_type": "code",
   "execution_count": 85,
   "metadata": {},
   "outputs": [],
   "source": [
    "def classify_3(d1, d2, d3, y_test, classes):\n",
    "    y_test = y_test[0]\n",
    "    y_pred = [classes[np.argmin([d1[i], d2[i], d3[i]])] for i in range(len(d1))]\n",
    "    mse = np.mean(y_pred != y_test)*100\n",
    "    nmse = np.sum(y_pred != y_test)\n",
    "\n",
    "    cm = confusion_matrix(y_test, y_pred)\n",
    "    \n",
    "    df_cm = pd.DataFrame(cm, index = classes,\n",
    "                  columns = classes)\n",
    "    plt.figure(figsize = (5,5))\n",
    "    sn.heatmap(df_cm, annot=True)\n",
    "\n",
    "    return mse, nmse\n",
    "        \n",
    "\n",
    "def SVD_classification_3(X_train, y_train, X_test, y_test, classes):\n",
    "\n",
    "    # Extract digit-wise train matrices\n",
    "    _, index_1 = np.where(y_train==classes[0])\n",
    "    _, index_2 = np.where(y_train==classes[1])\n",
    "    _, index_3 = np.where(y_train==classes[2])\n",
    "\n",
    "    X_1 = X_train[:, index_1]\n",
    "    X_2 = X_train[:, index_2]\n",
    "    X_3 = X_train[:, index_3]\n",
    "\n",
    "    # Compute the SVD decomposition\n",
    "    U_1, _, _ = np.linalg.svd(X_1, full_matrices=False)\n",
    "    U_2, _, _ = np.linalg.svd(X_2, full_matrices=False)\n",
    "    U_3, _, _ = np.linalg.svd(X_3, full_matrices=False)\n",
    "\n",
    "    # Compute the projections of y\n",
    "    y_1 = U_1 @ (U_1.T @ X_test)\n",
    "    y_2 = U_2 @ (U_2.T @ X_test)\n",
    "    y_3 = U_3 @ (U_3.T @ X_test)\n",
    "\n",
    "    d1 = np.linalg.norm(y_1-X_test, axis=0)\n",
    "    d2 = np.linalg.norm(y_2-X_test, axis=0)\n",
    "    d3 = np.linalg.norm(y_3-X_test, axis=0)\n",
    "\n",
    "    mse, nmse = classify_3(d1, d2, d3, y_test, classes)\n",
    "\n",
    "    print(f'Misclassification error for digits {classes[0]}, {classes[1]} and {classes[2]}:')\n",
    "    print(f'{mse:.2f}%')\n",
    "    print(f'Number of misclassified digits:')\n",
    "    print(nmse)\n",
    "    \n",
    "    return mse\n",
    "\n",
    "def run_experiment_3(X, I, digits, err):\n",
    "    \n",
    "    digits.sort()\n",
    "    \n",
    "    # Split train and test set \n",
    "    X_train, X_test, I_train, I_test = train_test_split(X.T, I.T, test_size=.2, random_state=42)\n",
    "    X_train, X_test, I_train, I_test = X_train.T, X_test.T, I_train.T, I_test.T\n",
    "\n",
    "    # Extract the subdataset of X that contains desidered digits\n",
    "    _, indexes = np.where((I_train==digits[0]) | (I_train==digits[1]) | (I_train==digits[2]))\n",
    "\n",
    "    I_train = I_train[:, indexes]\n",
    "    X_train = X_train[:, indexes]\n",
    "\n",
    "    _, indexes = np.where((I_test==digits[0]) | (I_test==digits[1]) | (I_test==digits[2]))\n",
    "\n",
    "    I_test = I_test[:, indexes]\n",
    "    X_test = X_test[:, indexes]\n",
    "    \n",
    "    # Bulk classification\n",
    "    mse = SVD_classification_3(X_train, I_train, X_test, I_test, digits)\n",
    "\n",
    "    err[f'{digits[0]}_{digits[1]}_{digits[2]}'] = round(mse,2)\n",
    "\n",
    "    return\n",
    "    \n"
   ]
  },
  {
   "cell_type": "code",
   "execution_count": 86,
   "metadata": {},
   "outputs": [
    {
     "name": "stdout",
     "output_type": "stream",
     "text": [
      "Misclassification error for digits 1, 4 and 7:\n",
      "12.90%\n",
      "Number of misclassified digits:\n",
      "16\n"
     ]
    },
    {
     "data": {
      "image/png": "[encoded data removed]",
      "text/plain": [
       "<Figure size 360x360 with 2 Axes>"
      ]
     },
     "metadata": {
      "needs_background": "light"
     },
     "output_type": "display_data"
    }
   ],
   "source": [
    "run_experiment_3(X, I, [1,4,7], err_dict_3)"
   ]
  },
  {
   "cell_type": "code",
   "execution_count": 87,
   "metadata": {},
   "outputs": [
    {
     "data": {
      "image/png": "[encoded data removed]",
      "text/plain": [
       "<Figure size 432x288 with 1 Axes>"
      ]
     },
     "metadata": {
      "needs_background": "light"
     },
     "output_type": "display_data"
    }
   ],
   "source": [
    "# Plot error\n",
    "fig = plt.figure()\n",
    "plt.bar(range(len(err_dict_3)), list(err_dict_3.values()), align='center')\n",
    "plt.xticks(range(len(err_dict_3)), list(err_dict_3.keys()))\n",
    "plt.xlabel('digits triplet')\n",
    "plt.ylabel('mse %')\n",
    "fig.suptitle('3-digits example')\n",
    "plt.show()"
   ]
  },
  {
   "cell_type": "code",
   "execution_count": 90,
   "metadata": {},
   "outputs": [
    {
     "name": "stdout",
     "output_type": "stream",
     "text": [
      "Misclassification error for digits [1, 2, 3, 4, 5, 6, 7, 8, 9]:\n",
      "23.64%\n",
      "Number of misclassified digits:\n",
      "65\n"
     ]
    },
    {
     "data": {
      "image/png": "[encoded data removed]",
      "text/plain": [
       "<Figure size 360x360 with 2 Axes>"
      ]
     },
     "metadata": {
      "needs_background": "light"
     },
     "output_type": "display_data"
    }
   ],
   "source": [
    "def classify_k(d, y_test, classes):\n",
    "    y_test = y_test[0]\n",
    "    d = np.transpose(d, (1,0))\n",
    "    \n",
    "    y_pred = np.array([classes[i] for i in np.argmin(d, axis=1)])\n",
    "    \n",
    "    mse = np.mean(y_pred != y_test)*100\n",
    "    nmse = np.sum(y_pred != y_test)\n",
    "\n",
    "    cm = confusion_matrix(y_test, y_pred)\n",
    "    \n",
    "    df_cm = pd.DataFrame(cm, index = classes,\n",
    "                  columns = classes)\n",
    "    plt.figure(figsize = (5,5))\n",
    "    sn.heatmap(df_cm, annot=True)\n",
    "\n",
    "    return mse, nmse\n",
    "        \n",
    "\n",
    "def SVD_classification_k(X_train, y_train, X_test, y_test, classes):\n",
    "    d = np.zeros((len(classes), X_test.shape[1]))\n",
    "\n",
    "    for i in range(len(classes)):\n",
    "\n",
    "        # Extract digit-wise train matrices\n",
    "        _, index = np.where(y_train==classes[i])\n",
    "\n",
    "        X = X_train[:, index]\n",
    "\n",
    "        # Compute the SVD decomposition\n",
    "        U, _, _ = np.linalg.svd(X, full_matrices=False)\n",
    "\n",
    "        # Compute the projections of y\n",
    "        y = U @ (U.T @ X_test)\n",
    "        d[i] = np.linalg.norm(y-X_test, axis=0)\n",
    "\n",
    "    mse, nmse = classify_k(d, y_test, classes)\n",
    "\n",
    "    print(f'Misclassification error for digits {classes}:')\n",
    "    print(f'{mse:.2f}%')\n",
    "    print(f'Number of misclassified digits:')\n",
    "    print(nmse)\n",
    "    \n",
    "    return mse\n",
    "\n",
    "def run_experiment_k(X, I, digits, err):\n",
    "    \n",
    "    digits.sort()\n",
    "    \n",
    "    # Split train and test set \n",
    "    X_train, X_test, I_train, I_test = train_test_split(X.T, I.T, test_size=.2, random_state=42)\n",
    "    X_train, X_test, I_train, I_test = X_train.T, X_test.T, I_train.T, I_test.T\n",
    "\n",
    "    # Extract the subdataset of X that contains desidered digits\n",
    "    [indexes] = np.isin(I_train,digits)\n",
    "\n",
    "    I_train = I_train[:, indexes]\n",
    "    X_train = X_train[:, indexes]\n",
    "\n",
    "    [indexes] = np.isin(I_test,digits)\n",
    "\n",
    "    I_test = I_test[:, indexes]\n",
    "    X_test = X_test[:, indexes]\n",
    "    \n",
    "    # Bulk classification\n",
    "    mse = SVD_classification_k(X_train, I_train, X_test, I_test, digits)\n",
    "\n",
    "    err[f'{digits}'] = round(mse,2)\n",
    "\n",
    "    return\n",
    "  \n",
    "run_experiment_k(X, I, [1,2,3,4,5,6,7,8,9], err_dict_k)\n"
   ]
  },
  {
   "cell_type": "code",
   "execution_count": 115,
   "metadata": {},
   "outputs": [
    {
     "data": {
      "image/png": "[encoded data removed]",
      "text/plain": [
       "<Figure size 432x288 with 1 Axes>"
      ]
     },
     "metadata": {
      "needs_background": "light"
     },
     "output_type": "display_data"
    }
   ],
   "source": [
    "# Plot error\n",
    "fig = plt.figure()\n",
    "plt.bar(range(len(err_dict_k)), list(err_dict_k.values()), align='center')\n",
    "plt.xticks(range(len(err_dict_k)), list(err_dict_k.keys()))\n",
    "plt.xlabel('digits triplet')\n",
    "plt.ylabel('mse %')\n",
    "fig.suptitle('k-digits example')\n",
    "plt.show()"
   ]
  }
 ],
 "metadata": {
  "interpreter": {
   "hash": "57dbaeb40e0f2ae7715dbd8c8740c1995438b42c504898f1e71818ae2718c612"
  },
  "kernelspec": {
   "display_name": "Python 3.10.0 64-bit",
   "language": "python",
   "name": "python3"
  },
  "language_info": {
   "codemirror_mode": {
    "name": "ipython",
    "version": 3
   },
   "file_extension": ".py",
   "mimetype": "text/x-python",
   "name": "python",
   "nbconvert_exporter": "python",
   "pygments_lexer": "ipython3",
   "version": "3.10.0"
  },
  "orig_nbformat": 4
 },
 "nbformat": 4,
 "nbformat_minor": 2
}
